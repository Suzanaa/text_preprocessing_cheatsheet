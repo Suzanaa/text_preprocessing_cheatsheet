{
 "cells": [
  {
   "cell_type": "markdown",
   "metadata": {},
   "source": [
    "# Clean tweets: Text pre-processing"
   ]
  },
  {
   "cell_type": "markdown",
   "metadata": {},
   "source": [
    "## Frequency counts of tokens"
   ]
  },
  {
   "cell_type": "code",
   "execution_count": 1,
   "metadata": {},
   "outputs": [
    {
     "name": "stdout",
     "output_type": "stream",
     "text": [
      "[('pink', 6), ('black', 5), ('white', 5), ('red', 4)]\n"
     ]
    }
   ],
   "source": [
    "words = [\n",
    "   'red', 'green', 'black', 'pink', 'black', 'white', 'black', 'eyes',\n",
    "   'white', 'black', 'orange', 'pink', 'pink', 'red', 'red', 'white', 'orange',\n",
    "   'white', \"black\", 'pink', 'green', 'green', 'pink', 'green', 'pink',\n",
    "   'white', 'orange', \"orange\", 'red'\n",
    "]\n",
    "from collections import Counter\n",
    "\n",
    "word_counts = Counter(words)\n",
    "top_four = word_counts.most_common(4)\n",
    "print(top_four)"
   ]
  },
  {
   "cell_type": "markdown",
   "metadata": {},
   "source": [
    "## Regex"
   ]
  },
  {
   "cell_type": "code",
   "execution_count": 2,
   "metadata": {},
   "outputs": [],
   "source": [
    "import re"
   ]
  },
  {
   "cell_type": "markdown",
   "metadata": {},
   "source": [
    "### Replace everything except alphanumeric characters, whitespace and periods with a space.\n"
   ]
  },
  {
   "cell_type": "code",
   "execution_count": 3,
   "metadata": {},
   "outputs": [
    {
     "name": "stdout",
     "output_type": "stream",
     "text": [
      "Colorless green ideas sleep furiously.      chomsky \n"
     ]
    }
   ],
   "source": [
    "text = 'Colorless green ideas sleep furiously.　言語学。#chomsky '\n",
    "text = re.sub('[^a-zA-Z0-9_.]', ' ', text)\n",
    "print(text)"
   ]
  },
  {
   "cell_type": "markdown",
   "metadata": {},
   "source": [
    "### The latter seems a bit strange and might confuse our tokenizer. Let's replace multiple whitespaces with one."
   ]
  },
  {
   "cell_type": "code",
   "execution_count": 4,
   "metadata": {},
   "outputs": [
    {
     "name": "stdout",
     "output_type": "stream",
     "text": [
      "Colorless green ideas sleep furiously. chomsky\n"
     ]
    }
   ],
   "source": [
    "text = 'Colorless green ideas sleep furiously. 言語学。#chomsky'\n",
    "text = re.sub('[^a-zA-Z0-9_.]', ' ', text)\n",
    "text = re.sub('(\\s+)', ' ', text)\n",
    "print(text)"
   ]
  },
  {
   "cell_type": "markdown",
   "metadata": {},
   "source": [
    "### Replace usernames with generic: USERNAME"
   ]
  },
  {
   "cell_type": "code",
   "execution_count": 5,
   "metadata": {},
   "outputs": [
    {
     "name": "stdout",
     "output_type": "stream",
     "text": [
      "Colorless green ideas sleep furiously. USERNAME\n"
     ]
    }
   ],
   "source": [
    "text = 'Colorless green ideas sleep furiously. @chomsky'\n",
    "text = re.sub('@([A-Za-z0-9_]+)', 'USERNAME', text)\n",
    "print(text)"
   ]
  },
  {
   "cell_type": "markdown",
   "metadata": {},
   "source": [
    "### Replace all urls with a space"
   ]
  },
  {
   "cell_type": "code",
   "execution_count": 6,
   "metadata": {},
   "outputs": [
    {
     "name": "stdout",
     "output_type": "stream",
     "text": [
      "Colorless green ideas sleep furiously.  \n"
     ]
    }
   ],
   "source": [
    "text = 'Colorless green ideas sleep furiously. https://www.chomsky.com'\n",
    "text = re.sub('http([A-Za-z0-9_:./]+)', ' ', text)\n",
    "print(text)"
   ]
  },
  {
   "cell_type": "markdown",
   "metadata": {},
   "source": [
    "### Find all urls, enumerate and print"
   ]
  },
  {
   "cell_type": "code",
   "execution_count": 7,
   "metadata": {},
   "outputs": [
    {
     "name": "stdout",
     "output_type": "stream",
     "text": [
      "Link 1: https://w3resource.com\n",
      "Link 2: http://github.com\n"
     ]
    }
   ],
   "source": [
    "text = '<p>Contents :</p><a href=\"https://w3resource.com\">Python Examples</a><a href=\"http://github.com\">Even More Examples</a>'\n",
    "urls = re.findall('http[s]?://(?:[a-zA-Z]|[0-9]|[$-_@.&+]|[!*\\(\\),]|(?:%[0-9a-fA-F][0-9a-fA-F]))+', text)\n",
    "    \n",
    "for num, name in enumerate(urls, start=1):\n",
    "    print(\"Link {}: {}\".format(num, name))"
   ]
  },
  {
   "cell_type": "markdown",
   "metadata": {},
   "source": [
    "### Keep some emojis 🤣"
   ]
  },
  {
   "cell_type": "code",
   "execution_count": 8,
   "metadata": {},
   "outputs": [
    {
     "name": "stdout",
     "output_type": "stream",
     "text": [
      "Colorless green ideas sleep furiously. 🤣😃 \n"
     ]
    }
   ],
   "source": [
    "text = 'Colorless green ideas sleep furiously. 🤣😃😄'\n",
    "text = re.sub('[^A-Za-z0-9,.🤣😃]', ' ', text)\n",
    "text = re.sub('(\\s+)', ' ', text)\n",
    "print(text)"
   ]
  },
  {
   "cell_type": "markdown",
   "metadata": {},
   "source": [
    "### Replace punctuation"
   ]
  },
  {
   "cell_type": "code",
   "execution_count": 9,
   "metadata": {},
   "outputs": [
    {
     "name": "stdout",
     "output_type": "stream",
     "text": [
      "Colorless green ideas sleep furiously.\n"
     ]
    }
   ],
   "source": [
    "text = 'Colorless! green; ideas? sleep, furiously.' \n",
    "text = (re.sub(\"[:,!?;]\", \"\", text))\n",
    "print(text)"
   ]
  },
  {
   "cell_type": "markdown",
   "metadata": {},
   "source": [
    "### Replace a token with another token"
   ]
  },
  {
   "cell_type": "code",
   "execution_count": 10,
   "metadata": {},
   "outputs": [
    {
     "name": "stdout",
     "output_type": "stream",
     "text": [
      "Colorless green ideas sleep furiously.\n"
     ]
    }
   ],
   "source": [
    "text = 'Transparent green ideas sleep furiously.'\n",
    "text = (re.sub(\"Transparent\", \"Colorless\", text))\n",
    "print(text)"
   ]
  },
  {
   "cell_type": "markdown",
   "metadata": {},
   "source": [
    "### Pandas"
   ]
  },
  {
   "cell_type": "code",
   "execution_count": 11,
   "metadata": {},
   "outputs": [],
   "source": [
    "import pandas as pd"
   ]
  },
  {
   "cell_type": "code",
   "execution_count": 12,
   "metadata": {},
   "outputs": [],
   "source": [
    "text = pd.read_csv('chomsky.csv', encoding='utf-8')"
   ]
  },
  {
   "cell_type": "code",
   "execution_count": 13,
   "metadata": {},
   "outputs": [
    {
     "data": {
      "text/html": [
       "<div>\n",
       "<style scoped>\n",
       "    .dataframe tbody tr th:only-of-type {\n",
       "        vertical-align: middle;\n",
       "    }\n",
       "\n",
       "    .dataframe tbody tr th {\n",
       "        vertical-align: top;\n",
       "    }\n",
       "\n",
       "    .dataframe thead th {\n",
       "        text-align: right;\n",
       "    }\n",
       "</style>\n",
       "<table border=\"1\" class=\"dataframe\">\n",
       "  <thead>\n",
       "    <tr style=\"text-align: right;\">\n",
       "      <th></th>\n",
       "      <th>Tweet</th>\n",
       "      <th>Label</th>\n",
       "    </tr>\n",
       "  </thead>\n",
       "  <tbody>\n",
       "    <tr>\n",
       "      <th>0</th>\n",
       "      <td>Colorless green ideas sleep furiously. 言語学。</td>\n",
       "      <td>0</td>\n",
       "    </tr>\n",
       "    <tr>\n",
       "      <th>1</th>\n",
       "      <td>Colorless green ideas sleep furiously. 言語学。</td>\n",
       "      <td>0</td>\n",
       "    </tr>\n",
       "    <tr>\n",
       "      <th>2</th>\n",
       "      <td>Colorless green ideas sleep furiously. 言語学。</td>\n",
       "      <td>0</td>\n",
       "    </tr>\n",
       "    <tr>\n",
       "      <th>3</th>\n",
       "      <td>Colorless green ideas sleep furiously. 言語学。</td>\n",
       "      <td>0</td>\n",
       "    </tr>\n",
       "    <tr>\n",
       "      <th>4</th>\n",
       "      <td>Colorless green ideas sleep furiously. 言語学。</td>\n",
       "      <td>0</td>\n",
       "    </tr>\n",
       "  </tbody>\n",
       "</table>\n",
       "</div>"
      ],
      "text/plain": [
       "                                         Tweet  Label\n",
       "0  Colorless green ideas sleep furiously. 言語学。      0\n",
       "1  Colorless green ideas sleep furiously. 言語学。      0\n",
       "2  Colorless green ideas sleep furiously. 言語学。      0\n",
       "3  Colorless green ideas sleep furiously. 言語学。      0\n",
       "4  Colorless green ideas sleep furiously. 言語学。      0"
      ]
     },
     "execution_count": 13,
     "metadata": {},
     "output_type": "execute_result"
    }
   ],
   "source": [
    "text.head() "
   ]
  },
  {
   "cell_type": "code",
   "execution_count": 14,
   "metadata": {},
   "outputs": [
    {
     "data": {
      "text/plain": [
       "5"
      ]
     },
     "execution_count": 14,
     "metadata": {},
     "output_type": "execute_result"
    }
   ],
   "source": [
    "len(text)"
   ]
  },
  {
   "cell_type": "code",
   "execution_count": 15,
   "metadata": {},
   "outputs": [],
   "source": [
    "text = text.Tweet.values # transform the dataframe to an array"
   ]
  },
  {
   "cell_type": "code",
   "execution_count": 16,
   "metadata": {},
   "outputs": [],
   "source": [
    "new_text = []"
   ]
  },
  {
   "cell_type": "code",
   "execution_count": 17,
   "metadata": {},
   "outputs": [
    {
     "name": "stdout",
     "output_type": "stream",
     "text": [
      "['colorless green ideas sleep furiously', 'colorless green ideas sleep furiously', 'colorless green ideas sleep furiously', 'colorless green ideas sleep furiously', 'colorless green ideas sleep furiously']\n"
     ]
    }
   ],
   "source": [
    "from nltk.corpus import stopwords\n",
    "    \n",
    "for i in range(0, len(text)):\n",
    "    tweet = re.sub('[^a-zA-Z\\s+]','', text[i]).lower().split()\n",
    "    tweet = [word for word in tweet if not word in set(stopwords.words('english'))] #actually I think we don't have any stopwords here lol\n",
    "    tweet = ' '.join(tweet)\n",
    "    new_text.append(tweet)\n",
    "    \n",
    "print(new_text)"
   ]
  },
  {
   "cell_type": "markdown",
   "metadata": {},
   "source": [
    "## Standardizing text\n",
    "Typos, slang, emoticons, variants, abbreviations, ..."
   ]
  },
  {
   "cell_type": "code",
   "execution_count": null,
   "metadata": {},
   "outputs": [],
   "source": [
    "lookup_dict = {'rt':'Retweet', 'dm':'direct message', \"awsm\" : \"awesome\", \"luv\" :\"love\", \"...\"}\n",
    "def _lookup_words(input_text):\n",
    "    words = input_text.split() \n",
    "    new_words = [] \n",
    "    for word in words:\n",
    "        if word.lower() in lookup_dict:\n",
    "            word = lookup_dict[word.lower()]\n",
    "        new_words.append(word) new_text = \" \".join(new_words) \n",
    "        return new_text\n",
    "\n",
    "_lookup_words(\"RT this is a retweeted tweet by Shivam Bansal\")\n",
    "\n",
    "\n",
    "\n",
    "\n",
    "lookup = {\n",
    "    'coooool': 'cool'\n",
    "    'RT': 'retweet'\n",
    "    ''\n",
    "}"
   ]
  }
 ],
 "metadata": {
  "kernelspec": {
   "display_name": "Python 3",
   "language": "python",
   "name": "python3"
  },
  "language_info": {
   "codemirror_mode": {
    "name": "ipython",
    "version": 3
   },
   "file_extension": ".py",
   "mimetype": "text/x-python",
   "name": "python",
   "nbconvert_exporter": "python",
   "pygments_lexer": "ipython3",
   "version": "3.6.4"
  }
 },
 "nbformat": 4,
 "nbformat_minor": 2
}
